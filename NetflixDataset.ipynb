{
 "cells": [
  {
   "cell_type": "markdown",
   "metadata": {},
   "source": [
    "# ASSIGNMENT NO. 4 - NETFLIX DATASET"
   ]
  },
  {
   "cell_type": "code",
   "execution_count": null,
   "metadata": {},
   "outputs": [],
   "source": [
    "import pandas as pd\n",
    "import seaborn as sns"
   ]
  },
  {
   "cell_type": "code",
   "execution_count": null,
   "metadata": {},
   "outputs": [],
   "source": [
    "df = pd.read_csv('netflix.csv')"
   ]
  },
  {
   "cell_type": "code",
   "execution_count": null,
   "metadata": {},
   "outputs": [],
   "source": [
    "print(\"\\nRows,Columns = \",df.shape)\n",
    "print(\"\\nRows*Columns = \",df.size)\n",
    "print(\"\\nDimensions   = \",df.ndim)\n",
    "print(\"\\nColumn Names = \",df.columns)\n",
    "print(\"\\nSummary      = \\n\")\n",
    "print(df.info())"
   ]
  },
  {
   "cell_type": "code",
   "execution_count": null,
   "metadata": {},
   "outputs": [],
   "source": [
    "df.head(n=15)"
   ]
  },
  {
   "cell_type": "code",
   "execution_count": null,
   "metadata": {},
   "outputs": [],
   "source": [
    "df.isna().sum()"
   ]
  },
  {
   "cell_type": "code",
   "execution_count": null,
   "metadata": {},
   "outputs": [],
   "source": [
    "#Kids Movie + TV Shows\n",
    "kid_movie = df['listed_in'].str.contains(\"Children & Family Movies\", case=False, regex=False)\n",
    "kid_tv = df['listed_in'].str.contains(\"Kids' TV\", case=False, regex=False)"
   ]
  },
  {
   "cell_type": "code",
   "execution_count": null,
   "metadata": {},
   "outputs": [],
   "source": [
    "df_kid = df[kid_movie | kid_tv]"
   ]
  },
  {
   "cell_type": "code",
   "execution_count": null,
   "metadata": {},
   "outputs": [],
   "source": [
    "#Graph for kids watching both\n",
    "a = sns.countplot(x=\"type\",\n",
    "                data=df_kid)\n",
    "print(df_kid[\"type\"].value_counts())"
   ]
  },
  {
   "cell_type": "code",
   "execution_count": null,
   "metadata": {},
   "outputs": [],
   "source": [
    "df.listed_in.unique()\n",
    "stand_up = df['listed_in'].str.contains(\"Stand-Up Comedy\", case=False, regex=False)\n",
    "standup = df[stand_up]"
   ]
  },
  {
   "cell_type": "code",
   "execution_count": null,
   "metadata": {},
   "outputs": [],
   "source": [
    "print(\"Total Standup Comedy = \",standup.shape[0])\n",
    "i = sns.countplot(y=\"listed_in\",data=standup);"
   ]
  },
  {
   "cell_type": "code",
   "execution_count": null,
   "metadata": {},
   "outputs": [],
   "source": [
    "# Highest Rated TV Show\n",
    "ax = sns.countplot(x=\"rating\", data=df, palette=\"Set2\", order=df['rating'].value_counts().index[0:15])"
   ]
  },
  {
   "cell_type": "markdown",
   "metadata": {},
   "source": []
  }
 ],
 "metadata": {
  "kernelspec": {
   "display_name": "Python 3",
   "language": "python",
   "name": "python3"
  },
  "language_info": {
   "codemirror_mode": {
    "name": "ipython",
    "version": 3
   },
   "file_extension": ".py",
   "mimetype": "text/x-python",
   "name": "python",
   "nbconvert_exporter": "python",
   "pygments_lexer": "ipython3",
   "version": "3.8.5"
  }
 },
 "nbformat": 4,
 "nbformat_minor": 5
}
